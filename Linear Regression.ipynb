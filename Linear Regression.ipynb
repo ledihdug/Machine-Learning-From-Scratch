{
 "cells": [
  {
   "cell_type": "markdown",
   "metadata": {},
   "source": [
    "## LINEAR REGRESSION \n",
    "** LEARNING FROM THE SCRATCH**\n"
   ]
  },
  {
   "cell_type": "markdown",
   "metadata": {},
   "source": [
    "### IMPORT LIBRARIES"
   ]
  },
  {
   "cell_type": "code",
   "execution_count": 1,
   "metadata": {},
   "outputs": [],
   "source": [
    "%matplotlib inline\n",
    "%reload_ext autoreload\n",
    "%autoreload 2\n",
    "import numpy as np\n",
    "import matplotlib.pyplot as plt\n",
    "seed=42\n",
    "np.random.seed(seed)"
   ]
  },
  {
   "cell_type": "markdown",
   "metadata": {},
   "source": [
    "### DEFINE REQUIRED FUNCTIONS"
   ]
  },
  {
   "cell_type": "code",
   "execution_count": 2,
   "metadata": {},
   "outputs": [],
   "source": [
    "#1. Generate dataset\n",
    "def generate_linear_dataset(n, dim, noise_bound = 0.5, is_reg = True):    \n",
    "    '''\n",
    "    Generate the linear dataset with uniform random noise within noise_bound\n",
    "    n: number of samples, dim: number of dimension, is_reg: linear or logistics\n",
    "    '''\n",
    "    W = np.random.randn(dim+1, 1) # shape (dim+1)x1 including bias W0\n",
    "    X0 = np.ones((n, 1)) # shape nx1\n",
    "    X = np.random.randn(n, dim) # shape nxdim\n",
    "    X = np.concatenate((X0, X), axis = 1) # shape nx(dim+1)\n",
    "\n",
    "    # Generate data with uniform random noise from -0.5 to 0.5\n",
    "    y = np.dot(X, W) + np.random.rand(n, 1)*noise_bound*2 - noise_bound\n",
    "    # Reduce the demension nx1 to n \n",
    "    y = np.squeeze(y)\n",
    "\n",
    "    return X, y, W\n",
    "\n",
    "# 2. Generate the train and validation set\n",
    "def get_train_val(X, y, val_ratio = 0.2, shuffle = False):\n",
    "    n = X.shape[0]\n",
    "    if shuffle: \n",
    "        idx = np.random.permutation(n)\n",
    "        X, y = X[idx], y[idx]\n",
    "    val_size = int(n*val_ratio)\n",
    "    return X[:n-val_size, :], y[:n-val_size], X[-val_size:, :], y[-val_size:]\n",
    "\n",
    "# 3. Mean squared Error Function\n",
    "def MSE(y, y_pred):\n",
    "    '''\n",
    "    Mean squared error\n",
    "    '''\n",
    "    return np.mean((y_pred -y)**2)\n",
    "\n",
    "# 4. Derivative of MSE loss Function\n",
    "def MSE_grad(y, y_pred):\n",
    "    '''\n",
    "        Derivative of MSE los w.r.t y_pred (not w)\n",
    "    '''\n",
    "    return (2/len(y))*(y_pred - y)\n",
    "\n",
    "# 5. Plot learnig Curve\n",
    "def plot_learning_curve(train_losses,val_losses):    \n",
    "    plt.plot(range(len(train_losses)),train_losses,'o-',color='r',label='Training loss',markersize=1)\n",
    "    plt.plot(range(len(train_losses)),val_losses,'o-',color='g',label='Validation loss',markersize=1)\n",
    "    plt.legend(loc=\"best\")\n",
    "    plt.show()"
   ]
  },
  {
   "cell_type": "markdown",
   "metadata": {},
   "source": [
    "### LINEAR REGRESSION "
   ]
  },
  {
   "cell_type": "code",
   "execution_count": 3,
   "metadata": {},
   "outputs": [],
   "source": [
    "def initialize_weight(dim):\n",
    "    W0 = np.array([[0]]) # bias W0 shape 1x1\n",
    "    W = np.random.randn(dim, 1) # shape dimx1\n",
    "    return np.concatenate((W0, W))\n",
    "\n",
    "def Linear_Regression(X, y, lr, l2, n_iteration, val_ratio):\n",
    "    '''\n",
    "    Fit data using gradient descent and L2 regulization\n",
    "    '''    \n",
    "    W = initialize_weight(dim)\n",
    "    train_losses = []\n",
    "    val_losses = []\n",
    "    X_train, y_train, X_val, y_val = get_train_val(X, y, val_ratio)\n",
    "\n",
    "    for i in range(n_iteration):\n",
    "    #TRAINING STEP\n",
    "        y_pred = np.squeeze(np.dot(X_train, W))\n",
    "        # GRADIENDESCENT \n",
    "        # STEP 1: Calculate MSE loss for regression\n",
    "        loss = MSE(y_train, y_pred)\n",
    "        # STEP 1: Calculate gradient of Loss\n",
    "        grad = MSE_grad(y_train, y_pred)  # shape (n,)\n",
    "\n",
    "        # STEP 3: Calculate the gradient of bias \n",
    "        grad_w = np.dot(X_train.T, grad) # shape (dim,)\n",
    "        if len(grad_w.shape) ==1:\n",
    "            grad_w = grad_w[:, None] # turn to (dim,)\n",
    "        \n",
    "        # STEP 4: Calculate the gradient of bias with L2 regulization\n",
    "        # Ignore update of grad_w0 since w0 does not contribule to regulization process\n",
    "        grad_w[1:, :] += 2*(l2/len(X_train))*W[1:, :] # using formular : (2*lambda/m)*weight\n",
    "        # STEP 5: Update Weight\n",
    "        W -= lr*grad_w\n",
    "\n",
    "        # Save training loss (for evaluation)\n",
    "        train_losses.append(loss)\n",
    "\n",
    "    # VALIDATION STEP \n",
    "        y_pred = np.squeeze(np.dot(X_val, W))\n",
    "        val_loss = MSE(y_val, y_pred)\n",
    "        # Save validation loss (for evaluation)\n",
    "        val_losses.append(val_loss)\n",
    "\n",
    "        # Print out some results \n",
    "        if (i+1) % 20 == 0:\n",
    "            print('{}. Training loss: {}. Validation loss: {}'.format(i+1, loss, val_loss))\n",
    "        \n",
    "    plot_learning_curve(train_losses,val_losses)\n"
   ]
  },
  {
   "cell_type": "markdown",
   "metadata": {},
   "source": [
    "## LINEAR REGRESSION WITH 1 DIMESION\n",
    "### SET PARAMETERS"
   ]
  },
  {
   "cell_type": "code",
   "execution_count": 4,
   "metadata": {},
   "outputs": [],
   "source": [
    "lr = 0.01                # learning rate\n",
    "l2 = 0                   # L2 regulization \n",
    "n_iteration = 200        # Number of iteration\n",
    "val_ratio = 0.2          # Valization ratio\n",
    "dim = 1                  # 1 dimension\n",
    "size = 500              # Number of samples\n",
    "loss_fn = MSE            # \n",
    "grad_fn = MSE_grad"
   ]
  },
  {
   "cell_type": "markdown",
   "metadata": {},
   "source": [
    "### GENERATE THE DATASET"
   ]
  },
  {
   "cell_type": "code",
   "execution_count": 7,
   "metadata": {},
   "outputs": [
    {
     "data": {
      "text/plain": [
       "<matplotlib.collections.PathCollection at 0x1215a8278>"
      ]
     },
     "execution_count": 7,
     "metadata": {},
     "output_type": "execute_result"
    },
    {
     "data": {
      "image/png": "[encoded data removed]",
      "text/plain": [
       "<Figure size 432x288 with 1 Axes>"
      ]
     },
     "metadata": {},
     "output_type": "display_data"
    }
   ],
   "source": [
    "X,y,W = generate_linear_dataset(size, dim)\n",
    "plt.scatter(X[:,1],y)"
   ]
  },
  {
   "cell_type": "markdown",
   "metadata": {},
   "source": [
    "### FIT THE DATASET "
   ]
  },
  {
   "cell_type": "code",
   "execution_count": 10,
   "metadata": {},
   "outputs": [
    {
     "name": "stdout",
     "output_type": "stream",
     "text": [
      "20. Training loss: 0.5539492494860506. Validation loss: 0.4353456264966285\n",
      "40. Training loss: 0.2847002635953222. Validation loss: 0.2243375231002095\n",
      "60. Training loss: 0.16919934055938549. Validation loss: 0.13749959766985384\n",
      "80. Training loss: 0.11946517827310968. Validation loss: 0.10257128492930151\n",
      "100. Training loss: 0.09796454572465135. Validation loss: 0.08910051784101984\n",
      "120. Training loss: 0.08863083601231735. Validation loss: 0.084320545198117\n",
      "140. Training loss: 0.08456142512945611. Validation loss: 0.0829321913617466\n",
      "160. Training loss: 0.0827793072752901. Validation loss: 0.08277543795194718\n",
      "180. Training loss: 0.08199532473407842. Validation loss: 0.08299831267941843\n",
      "200. Training loss: 0.08164885792390247. Validation loss: 0.08328516811851334\n"
     ]
    },
    {
     "data": {
      "image/png": "[encoded data removed]",
      "text/plain": [
       "<Figure size 432x288 with 1 Axes>"
      ]
     },
     "metadata": {},
     "output_type": "display_data"
    }
   ],
   "source": [
    "Linear_Regression(X, y, lr, l2, n_iteration, val_ratio)"
   ]
  },
  {
   "cell_type": "code",
   "execution_count": null,
   "metadata": {},
   "outputs": [],
   "source": []
  }
 ],
 "metadata": {
  "kernelspec": {
   "display_name": "Python 3",
   "language": "python",
   "name": "python3"
  },
  "language_info": {
   "codemirror_mode": {
    "name": "ipython",
    "version": 3
   },
   "file_extension": ".py",
   "mimetype": "text/x-python",
   "name": "python",
   "nbconvert_exporter": "python",
   "pygments_lexer": "ipython3",
   "version": "3.6.5"
  }
 },
 "nbformat": 4,
 "nbformat_minor": 2
}
